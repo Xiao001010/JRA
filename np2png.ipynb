{
 "cells": [
  {
   "cell_type": "code",
   "execution_count": 7,
   "metadata": {},
   "outputs": [
    {
     "ename": "error",
     "evalue": "OpenCV(4.8.0) D:\\a\\opencv-python\\opencv-python\\opencv\\modules\\imgcodecs\\src\\loadsave.cpp:703: error: (-215:Assertion failed) image.channels() == 1 || image.channels() == 3 || image.channels() == 4 in function 'cv::imwrite_'\n",
     "output_type": "error",
     "traceback": [
      "\u001b[1;31m---------------------------------------------------------------------------\u001b[0m",
      "\u001b[1;31merror\u001b[0m                                     Traceback (most recent call last)",
      "Cell \u001b[1;32mIn[7], line 16\u001b[0m\n\u001b[0;32m     14\u001b[0m \u001b[39m# img = img.astype(np.uint8)\u001b[39;00m\n\u001b[0;32m     15\u001b[0m img \u001b[39m=\u001b[39m np\u001b[39m.\u001b[39mtranspose(img, (\u001b[39m1\u001b[39m, \u001b[39m2\u001b[39m, \u001b[39m0\u001b[39m))\n\u001b[1;32m---> 16\u001b[0m cv2\u001b[39m.\u001b[39;49mimwrite(\u001b[39m'\u001b[39;49m\u001b[39mdata/saved_cell_images_1237_png/\u001b[39;49m\u001b[39m'\u001b[39;49m \u001b[39m+\u001b[39;49m np_file[:\u001b[39m-\u001b[39;49m\u001b[39m4\u001b[39;49m] \u001b[39m+\u001b[39;49m \u001b[39m'\u001b[39;49m\u001b[39m.png\u001b[39;49m\u001b[39m'\u001b[39;49m, img)\n\u001b[0;32m     17\u001b[0m \u001b[39mprint\u001b[39m(np_file[:\u001b[39m-\u001b[39m\u001b[39m4\u001b[39m] \u001b[39m+\u001b[39m \u001b[39m'\u001b[39m\u001b[39m.png\u001b[39m\u001b[39m'\u001b[39m)\n\u001b[0;32m     18\u001b[0m \u001b[39mbreak\u001b[39;00m\n",
      "\u001b[1;31merror\u001b[0m: OpenCV(4.8.0) D:\\a\\opencv-python\\opencv-python\\opencv\\modules\\imgcodecs\\src\\loadsave.cpp:703: error: (-215:Assertion failed) image.channels() == 1 || image.channels() == 3 || image.channels() == 4 in function 'cv::imwrite_'\n"
     ]
    }
   ],
   "source": [
    "import os\n",
    "import numpy as np\n",
    "import matplotlib.pyplot as plt\n",
    "import cv2\n",
    "\n",
    "np_file_list = os.listdir('data/saved_cell_images_1237/')\n",
    "# np_file_list.sort()\n",
    "\n",
    "if not os.path.exists('data/saved_cell_images_1237_png/'):\n",
    "    os.mkdir('data/saved_cell_images_1237_png/')\n",
    "\n",
    "for np_file in np_file_list:\n",
    "    img = np.load('data/saved_cell_images_1237/' + np_file)\n",
    "    # img = img.astype(np.uint8)\n",
    "    img = np.transpose(img, (1, 2, 0))\n",
    "    cv2.imwrite('data/saved_cell_images_1237_png/' + np_file[:-4] + '.png', img)\n",
    "    print(np_file[:-4] + '.png')\n",
    "    break\n",
    "    # plt.imshow(img)\n",
    "    # plt.show()"
   ]
  },
  {
   "cell_type": "code",
   "execution_count": 1,
   "metadata": {},
   "outputs": [],
   "source": [
    "import tifffile as tiff\n",
    "import numpy as np\n",
    "\n",
    "img = tiff.imread('data/tiff_data/1.tif')"
   ]
  },
  {
   "cell_type": "code",
   "execution_count": 2,
   "metadata": {},
   "outputs": [
    {
     "name": "stdout",
     "output_type": "stream",
     "text": [
      "(1, 1, 1080, 1080, 4)\n"
     ]
    }
   ],
   "source": [
    "print(img.shape)"
   ]
  },
  {
   "cell_type": "code",
   "execution_count": 3,
   "metadata": {},
   "outputs": [
    {
     "name": "stdout",
     "output_type": "stream",
     "text": [
      "(1080, 1080, 4)\n"
     ]
    }
   ],
   "source": [
    "img = img.squeeze()\n",
    "print(img.shape)"
   ]
  },
  {
   "cell_type": "code",
   "execution_count": 4,
   "metadata": {},
   "outputs": [],
   "source": [
    "tiff.imwrite('data/1.tif', img)"
   ]
  },
  {
   "cell_type": "code",
   "execution_count": null,
   "metadata": {},
   "outputs": [],
   "source": []
  },
  {
   "cell_type": "code",
   "execution_count": null,
   "metadata": {},
   "outputs": [],
   "source": []
  },
  {
   "cell_type": "code",
   "execution_count": null,
   "metadata": {},
   "outputs": [],
   "source": []
  },
  {
   "cell_type": "code",
   "execution_count": 6,
   "metadata": {},
   "outputs": [
    {
     "name": "stdout",
     "output_type": "stream",
     "text": [
      "0.tif\n",
      "1.tif\n",
      "10.tif\n",
      "100.tif\n",
      "101.tif\n",
      "102.tif\n",
      "103.tif\n",
      "104.tif\n",
      "105.tif\n",
      "106.tif\n",
      "107.tif\n",
      "108.tif\n",
      "109.tif\n",
      "11.tif\n",
      "110.tif\n",
      "111.tif\n",
      "112.tif\n",
      "113.tif\n",
      "114.tif\n",
      "115.tif\n",
      "116.tif\n",
      "117.tif\n",
      "118.tif\n",
      "119.tif\n",
      "12.tif\n",
      "120.tif\n",
      "121.tif\n",
      "122.tif\n",
      "123.tif\n",
      "124.tif\n",
      "125.tif\n",
      "126.tif\n",
      "127.tif\n",
      "128.tif\n",
      "129.tif\n",
      "13.tif\n",
      "130.tif\n",
      "131.tif\n",
      "132.tif\n",
      "133.tif\n",
      "134.tif\n",
      "135.tif\n",
      "136.tif\n",
      "137.tif\n",
      "138.tif\n",
      "139.tif\n",
      "14.tif\n",
      "140.tif\n",
      "141.tif\n",
      "142.tif\n",
      "143.tif\n",
      "144.tif\n",
      "145.tif\n",
      "146.tif\n",
      "147.tif\n",
      "148.tif\n",
      "149.tif\n",
      "15.tif\n",
      "150.tif\n",
      "151.tif\n",
      "152.tif\n",
      "153.tif\n",
      "154.tif\n",
      "155.tif\n",
      "156.tif\n",
      "157.tif\n",
      "158.tif\n",
      "159.tif\n",
      "16.tif\n",
      "160.tif\n",
      "161.tif\n",
      "162.tif\n",
      "163.tif\n",
      "164.tif\n",
      "165.tif\n",
      "166.tif\n",
      "167.tif\n",
      "168.tif\n",
      "169.tif\n",
      "17.tif\n",
      "170.tif\n",
      "171.tif\n",
      "172.tif\n",
      "173.tif\n",
      "174.tif\n",
      "175.tif\n",
      "176.tif\n",
      "177.tif\n",
      "178.tif\n",
      "179.tif\n",
      "18.tif\n",
      "19.tif\n",
      "2.tif\n",
      "20.tif\n",
      "21.tif\n",
      "22.tif\n",
      "23.tif\n",
      "24.tif\n",
      "25.tif\n",
      "26.tif\n",
      "27.tif\n",
      "28.tif\n",
      "29.tif\n",
      "3.tif\n",
      "30.tif\n",
      "31.tif\n",
      "32.tif\n",
      "33.tif\n",
      "34.tif\n",
      "35.tif\n",
      "36.tif\n",
      "37.tif\n",
      "38.tif\n",
      "39.tif\n",
      "4.tif\n",
      "40.tif\n",
      "41.tif\n",
      "42.tif\n",
      "43.tif\n",
      "44.tif\n",
      "45.tif\n",
      "46.tif\n",
      "47.tif\n",
      "48.tif\n",
      "49.tif\n",
      "5.tif\n",
      "50.tif\n",
      "51.tif\n",
      "52.tif\n",
      "53.tif\n",
      "54.tif\n",
      "55.tif\n",
      "56.tif\n",
      "57.tif\n",
      "58.tif\n",
      "59.tif\n",
      "6.tif\n",
      "60.tif\n",
      "61.tif\n",
      "62.tif\n",
      "63.tif\n",
      "64.tif\n",
      "65.tif\n",
      "66.tif\n",
      "67.tif\n",
      "68.tif\n",
      "69.tif\n",
      "7.tif\n",
      "70.tif\n",
      "71.tif\n",
      "72.tif\n",
      "73.tif\n",
      "74.tif\n",
      "75.tif\n",
      "76.tif\n",
      "77.tif\n",
      "78.tif\n",
      "79.tif\n",
      "8.tif\n",
      "80.tif\n",
      "81.tif\n",
      "82.tif\n",
      "83.tif\n",
      "84.tif\n",
      "85.tif\n",
      "86.tif\n",
      "87.tif\n",
      "88.tif\n",
      "89.tif\n",
      "9.tif\n",
      "90.tif\n",
      "91.tif\n",
      "92.tif\n",
      "93.tif\n",
      "94.tif\n",
      "95.tif\n",
      "96.tif\n",
      "97.tif\n",
      "98.tif\n",
      "99.tif\n"
     ]
    }
   ],
   "source": [
    "import tifffile\n",
    "import numpy as np\n",
    "import os\n",
    "\n",
    "tif_file_list = os.listdir('data/tiff_raw_data/')\n",
    "\n",
    "if not os.path.exists('data/tiff_data/'):\n",
    "    os.mkdir('data/tiff_data/')\n",
    "\n",
    "for tif_file in tif_file_list:\n",
    "    img = tifffile.imread('data/tiff_raw_data/' + tif_file)\n",
    "    # print(img.shape)\n",
    "    img = img.squeeze()\n",
    "    # print(img.shape)\n",
    "    tifffile.imwrite('data/tiff_data/' + tif_file, img)\n",
    "    print(tif_file)\n"
   ]
  },
  {
   "cell_type": "code",
   "execution_count": 7,
   "metadata": {},
   "outputs": [
    {
     "name": "stdout",
     "output_type": "stream",
     "text": [
      "(1080, 1080, 4)\n"
     ]
    }
   ],
   "source": [
    "print(img.shape)"
   ]
  },
  {
   "cell_type": "code",
   "execution_count": null,
   "metadata": {},
   "outputs": [],
   "source": []
  }
 ],
 "metadata": {
  "kernelspec": {
   "display_name": "jra",
   "language": "python",
   "name": "python3"
  },
  "language_info": {
   "codemirror_mode": {
    "name": "ipython",
    "version": 3
   },
   "file_extension": ".py",
   "mimetype": "text/x-python",
   "name": "python",
   "nbconvert_exporter": "python",
   "pygments_lexer": "ipython3",
   "version": "3.8.17"
  },
  "orig_nbformat": 4
 },
 "nbformat": 4,
 "nbformat_minor": 2
}
