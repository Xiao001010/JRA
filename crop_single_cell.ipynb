{
 "cells": [
  {
   "cell_type": "code",
   "execution_count": 1,
   "metadata": {},
   "outputs": [],
   "source": [
    "import os\n",
    "import numpy as np\n",
    "\n",
    "import matplotlib.pyplot as plt\n",
    "\n",
    "import cv2\n",
    "import tifffile"
   ]
  },
  {
   "cell_type": "code",
   "execution_count": 5,
   "metadata": {},
   "outputs": [
    {
     "name": "stdout",
     "output_type": "stream",
     "text": [
      "Processing t000.tif...\n",
      "(1024, 1024)\n"
     ]
    },
    {
     "ename": "ValueError",
     "evalue": "axes don't match array",
     "output_type": "error",
     "traceback": [
      "\u001b[1;31m---------------------------------------------------------------------------\u001b[0m",
      "\u001b[1;31mValueError\u001b[0m                                Traceback (most recent call last)",
      "Cell \u001b[1;32mIn[5], line 15\u001b[0m\n\u001b[0;32m     13\u001b[0m img \u001b[39m=\u001b[39m tifffile\u001b[39m.\u001b[39mimread(\u001b[39m'\u001b[39m\u001b[39mdata/Fluo-C2DL-Huh7/01/\u001b[39m\u001b[39m'\u001b[39m \u001b[39m+\u001b[39m file)\n\u001b[0;32m     14\u001b[0m \u001b[39mprint\u001b[39m(img\u001b[39m.\u001b[39mshape)\n\u001b[1;32m---> 15\u001b[0m img \u001b[39m=\u001b[39m np\u001b[39m.\u001b[39;49mtranspose(img, (\u001b[39m2\u001b[39;49m, \u001b[39m1\u001b[39;49m, \u001b[39m0\u001b[39;49m))\n\u001b[0;32m     16\u001b[0m mask \u001b[39m=\u001b[39m np\u001b[39m.\u001b[39mload(mask_path \u001b[39m+\u001b[39m \u001b[39m'\u001b[39m\u001b[39m/\u001b[39m\u001b[39m'\u001b[39m \u001b[39m+\u001b[39m \u001b[39m'\u001b[39m\u001b[39m01\u001b[39m\u001b[39m'\u001b[39m \u001b[39m+\u001b[39m filename \u001b[39m+\u001b[39m \u001b[39m'\u001b[39m\u001b[39m_mask.npy\u001b[39m\u001b[39m'\u001b[39m)\n\u001b[0;32m     17\u001b[0m num_cells \u001b[39m=\u001b[39m np\u001b[39m.\u001b[39mmax(mask\u001b[39m.\u001b[39mflatten())\n",
      "File \u001b[1;32m<__array_function__ internals>:200\u001b[0m, in \u001b[0;36mtranspose\u001b[1;34m(*args, **kwargs)\u001b[0m\n",
      "File \u001b[1;32mc:\\Users\\hx57\\AppData\\Local\\anaconda3\\envs\\jra\\lib\\site-packages\\numpy\\core\\fromnumeric.py:668\u001b[0m, in \u001b[0;36mtranspose\u001b[1;34m(a, axes)\u001b[0m\n\u001b[0;32m    601\u001b[0m \u001b[39m@array_function_dispatch\u001b[39m(_transpose_dispatcher)\n\u001b[0;32m    602\u001b[0m \u001b[39mdef\u001b[39;00m \u001b[39mtranspose\u001b[39m(a, axes\u001b[39m=\u001b[39m\u001b[39mNone\u001b[39;00m):\n\u001b[0;32m    603\u001b[0m \u001b[39m    \u001b[39m\u001b[39m\"\"\"\u001b[39;00m\n\u001b[0;32m    604\u001b[0m \u001b[39m    Returns an array with axes transposed.\u001b[39;00m\n\u001b[0;32m    605\u001b[0m \n\u001b[1;32m   (...)\u001b[0m\n\u001b[0;32m    666\u001b[0m \n\u001b[0;32m    667\u001b[0m \u001b[39m    \"\"\"\u001b[39;00m\n\u001b[1;32m--> 668\u001b[0m     \u001b[39mreturn\u001b[39;00m _wrapfunc(a, \u001b[39m'\u001b[39;49m\u001b[39mtranspose\u001b[39;49m\u001b[39m'\u001b[39;49m, axes)\n",
      "File \u001b[1;32mc:\\Users\\hx57\\AppData\\Local\\anaconda3\\envs\\jra\\lib\\site-packages\\numpy\\core\\fromnumeric.py:57\u001b[0m, in \u001b[0;36m_wrapfunc\u001b[1;34m(obj, method, *args, **kwds)\u001b[0m\n\u001b[0;32m     54\u001b[0m     \u001b[39mreturn\u001b[39;00m _wrapit(obj, method, \u001b[39m*\u001b[39margs, \u001b[39m*\u001b[39m\u001b[39m*\u001b[39mkwds)\n\u001b[0;32m     56\u001b[0m \u001b[39mtry\u001b[39;00m:\n\u001b[1;32m---> 57\u001b[0m     \u001b[39mreturn\u001b[39;00m bound(\u001b[39m*\u001b[39;49margs, \u001b[39m*\u001b[39;49m\u001b[39m*\u001b[39;49mkwds)\n\u001b[0;32m     58\u001b[0m \u001b[39mexcept\u001b[39;00m \u001b[39mTypeError\u001b[39;00m:\n\u001b[0;32m     59\u001b[0m     \u001b[39m# A TypeError occurs if the object does have such a method in its\u001b[39;00m\n\u001b[0;32m     60\u001b[0m     \u001b[39m# class, but its signature is not identical to that of NumPy's. This\u001b[39;00m\n\u001b[1;32m   (...)\u001b[0m\n\u001b[0;32m     64\u001b[0m     \u001b[39m# Call _wrapit from within the except clause to ensure a potential\u001b[39;00m\n\u001b[0;32m     65\u001b[0m     \u001b[39m# exception has a traceback chain.\u001b[39;00m\n\u001b[0;32m     66\u001b[0m     \u001b[39mreturn\u001b[39;00m _wrapit(obj, method, \u001b[39m*\u001b[39margs, \u001b[39m*\u001b[39m\u001b[39m*\u001b[39mkwds)\n",
      "\u001b[1;31mValueError\u001b[0m: axes don't match array"
     ]
    }
   ],
   "source": [
    "file_list = os.listdir('data/Fluo-C2DL-Huh7/01')\n",
    "mask_path = 'data/Fluo_mask_data'\n",
    "save_path = 'data/Fluo_single_cell_data'\n",
    "\n",
    "bias = 3\n",
    "\n",
    "if not os.path.exists(save_path):\n",
    "    os.makedirs(save_path)\n",
    "\n",
    "for file in file_list:\n",
    "    filename = file.split('.')[0]\n",
    "    print('Processing ' + file + '...')\n",
    "    img = tifffile.imread('data/Fluo-C2DL-Huh7/01/' + file)\n",
    "    print(img.shape)\n",
    "    img = np.transpose(img, (2, 1, 0))\n",
    "    mask = np.load(mask_path + '/' + '01' + filename + '_mask.npy')\n",
    "    num_cells = np.max(mask.flatten())\n",
    "    # plt.subplot(1, 2, 1)\n",
    "    # plt.imshow(img[0], cmap='gray')\n",
    "    # plt.subplot(1, 2, 2)\n",
    "    # plt.imshow(mask, cmap='gray')\n",
    "    # plt.show()\n",
    "    # print(min(mask.flatten()), max(mask.flatten()))\n",
    "    print('Number of cells in ' + file + ': ' + str(num_cells))\n",
    "    # break\n",
    "    for i in range(1, num_cells + 1):\n",
    "        cell_index = np.argwhere(mask == i)\n",
    "        # print(cell_index.shape)\n",
    "        x, y = cell_index[:, 0], cell_index[:, 1]\n",
    "        x_min, x_max = np.min(x), np.max(x)\n",
    "        y_min, y_max = np.min(y), np.max(y)\n",
    "        # print(x_min, x_max, y_min, y_max)\n",
    "        if x_min < bias or x_max > img.shape[1] - bias or y_min < bias or y_max > img.shape[2] - bias:\n",
    "            print('Cell ' + str(i) + ' in ' + file + ' is too close to the edge!')\n",
    "            continue\n",
    "        cell = img[:, y_min-bias:y_max+bias, x_min-bias:x_max+bias]\n",
    "        # if i == 2:\n",
    "        # # print(cell)\n",
    "        #     plt.subplot(2, 2, 1)\n",
    "        #     plt.imshow(cell[0])\n",
    "        #     plt.subplot(2, 2, 2)\n",
    "        #     plt.imshow(cell[1])\n",
    "        #     plt.subplot(2, 2, 3)\n",
    "        #     plt.imshow(cell[2])\n",
    "        #     plt.subplot(2, 2, 4)\n",
    "        #     plt.imshow(cell[3])\n",
    "        #     plt.show()\n",
    "        #     print(cell.shape)\n",
    "        if (np.count_nonzero(cell[0]) / (cell.shape[1]*cell.shape[2])) < 0.5:\n",
    "            print('Empty cell!')\n",
    "            continue\n",
    "        tifffile.imsave('data/single_cell_data/' + '01' + filename + '_' + str(i) + '.tif', cell)\n",
    "        print('Cell ' + str(i) + ' in ' + file + ' saved!')\n",
    "    #     break\n",
    "    # break\n",
    "        # np.save(save_path + '/' + filename + '_' + str(i) + '.npy', cell)"
   ]
  },
  {
   "cell_type": "code",
   "execution_count": null,
   "metadata": {},
   "outputs": [],
   "source": []
  }
 ],
 "metadata": {
  "kernelspec": {
   "display_name": "jra",
   "language": "python",
   "name": "python3"
  },
  "language_info": {
   "codemirror_mode": {
    "name": "ipython",
    "version": 3
   },
   "file_extension": ".py",
   "mimetype": "text/x-python",
   "name": "python",
   "nbconvert_exporter": "python",
   "pygments_lexer": "ipython3",
   "version": "3.8.17"
  },
  "orig_nbformat": 4
 },
 "nbformat": 4,
 "nbformat_minor": 2
}
